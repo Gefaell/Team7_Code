{
 "cells": [
  {
   "cell_type": "markdown",
   "metadata": {},
   "source": [
    "\n",
    "# $K^* \\mu \\mu$ angular analysis - Getting started"
   ]
  },
  {
   "cell_type": "code",
   "execution_count": 6,
   "metadata": {
    "pycharm": {
     "name": "#%%\n"
    }
   },
   "outputs": [],
   "source": [
    "#importing modules\n",
    "import numpy as np\n",
    "import pandas as pd\n",
    "import matplotlib.pyplot as plt\n",
    "from iminuit import Minuit #minuit for minimising "
   ]
  },
  {
   "cell_type": "markdown",
   "metadata": {},
   "source": [
    "## Loading the data\n",
    "Let us load the data from each bin in separate data frames, and put them in a list called `bins`.\n",
    "\n",
    "The following assumes that the csv\n",
    "file for bin i is called `toy_data_bin_i.csv` and is located in the folder `../kstarmumu_toy_data/`."
   ]
  },
  {
   "cell_type": "code",
   "execution_count": 17,
   "metadata": {
    "pycharm": {
     "name": "#%%\n"
    }
   },
   "outputs": [
    {
     "data": {
      "text/html": [
       "<div>\n",
       "<style scoped>\n",
       "    .dataframe tbody tr th:only-of-type {\n",
       "        vertical-align: middle;\n",
       "    }\n",
       "\n",
       "    .dataframe tbody tr th {\n",
       "        vertical-align: top;\n",
       "    }\n",
       "\n",
       "    .dataframe thead th {\n",
       "        text-align: right;\n",
       "    }\n",
       "</style>\n",
       "<table border=\"1\" class=\"dataframe\">\n",
       "  <thead>\n",
       "    <tr style=\"text-align: right;\">\n",
       "      <th></th>\n",
       "      <th>Unnamed: 0</th>\n",
       "      <th>mB</th>\n",
       "      <th>ctl</th>\n",
       "      <th>ctk</th>\n",
       "      <th>phi</th>\n",
       "      <th>mkpi</th>\n",
       "      <th>eff</th>\n",
       "      <th>year</th>\n",
       "      <th>pol</th>\n",
       "      <th>id</th>\n",
       "    </tr>\n",
       "  </thead>\n",
       "  <tbody>\n",
       "    <tr>\n",
       "      <th>0</th>\n",
       "      <td>0</td>\n",
       "      <td>75.956925</td>\n",
       "      <td>-0.986918</td>\n",
       "      <td>0.116878</td>\n",
       "      <td>-2.855914</td>\n",
       "      <td>1.035573</td>\n",
       "      <td>1.0</td>\n",
       "      <td>2012</td>\n",
       "      <td>1.0</td>\n",
       "      <td>1</td>\n",
       "    </tr>\n",
       "    <tr>\n",
       "      <th>1</th>\n",
       "      <td>1</td>\n",
       "      <td>121.280030</td>\n",
       "      <td>-0.657315</td>\n",
       "      <td>0.514766</td>\n",
       "      <td>0.317335</td>\n",
       "      <td>0.987207</td>\n",
       "      <td>1.0</td>\n",
       "      <td>2012</td>\n",
       "      <td>1.0</td>\n",
       "      <td>1</td>\n",
       "    </tr>\n",
       "    <tr>\n",
       "      <th>2</th>\n",
       "      <td>2</td>\n",
       "      <td>90.329200</td>\n",
       "      <td>-0.840377</td>\n",
       "      <td>0.309197</td>\n",
       "      <td>0.939818</td>\n",
       "      <td>0.927182</td>\n",
       "      <td>1.0</td>\n",
       "      <td>2012</td>\n",
       "      <td>-1.0</td>\n",
       "      <td>1</td>\n",
       "    </tr>\n",
       "    <tr>\n",
       "      <th>3</th>\n",
       "      <td>3</td>\n",
       "      <td>84.977505</td>\n",
       "      <td>-0.278589</td>\n",
       "      <td>-0.883990</td>\n",
       "      <td>2.403850</td>\n",
       "      <td>0.800599</td>\n",
       "      <td>1.0</td>\n",
       "      <td>2012</td>\n",
       "      <td>-1.0</td>\n",
       "      <td>1</td>\n",
       "    </tr>\n",
       "    <tr>\n",
       "      <th>4</th>\n",
       "      <td>4</td>\n",
       "      <td>106.125464</td>\n",
       "      <td>0.292535</td>\n",
       "      <td>0.422031</td>\n",
       "      <td>-0.377728</td>\n",
       "      <td>0.925444</td>\n",
       "      <td>1.0</td>\n",
       "      <td>2012</td>\n",
       "      <td>1.0</td>\n",
       "      <td>1</td>\n",
       "    </tr>\n",
       "  </tbody>\n",
       "</table>\n",
       "</div>"
      ],
      "text/plain": [
       "   Unnamed: 0          mB       ctl       ctk       phi      mkpi  eff  year  \\\n",
       "0           0   75.956925 -0.986918  0.116878 -2.855914  1.035573  1.0  2012   \n",
       "1           1  121.280030 -0.657315  0.514766  0.317335  0.987207  1.0  2012   \n",
       "2           2   90.329200 -0.840377  0.309197  0.939818  0.927182  1.0  2012   \n",
       "3           3   84.977505 -0.278589 -0.883990  2.403850  0.800599  1.0  2012   \n",
       "4           4  106.125464  0.292535  0.422031 -0.377728  0.925444  1.0  2012   \n",
       "\n",
       "   pol  id  \n",
       "0  1.0   1  \n",
       "1  1.0   1  \n",
       "2 -1.0   1  \n",
       "3 -1.0   1  \n",
       "4  1.0   1  "
      ]
     },
     "execution_count": 17,
     "metadata": {},
     "output_type": "execute_result"
    }
   ],
   "source": [
    "data_path = 'kstarmumu_toy_data/'\n",
    "files = [f'{data_path}toy_data_bin_{i}.csv' for i in range(7)] #list of csv file names\n",
    "bins = [pd.read_csv(file) for file in files] #using file names and reading it out into a list of 7 dataframes\n",
    "\n",
    "bins[0].head()"
   ]
  },
  {
   "cell_type": "markdown",
   "metadata": {},
   "source": [
    "Let us have a look at the distribution of the variable $cos(\\theta_l)$, which will be used below, in one of the bins."
   ]
  },
  {
   "cell_type": "code",
   "execution_count": 23,
   "metadata": {
    "pycharm": {
     "name": "#%%\n"
    }
   },
   "outputs": [
    {
     "data": {
      "image/png": "[encoded data removed]",
      "text/plain": [
       "<Figure size 432x288 with 1 Axes>"
      ]
     },
     "metadata": {
      "needs_background": "light"
     },
     "output_type": "display_data"
    }
   ],
   "source": [
    "plt.hist(bins[3]['ctl'], bins=25, density=True)\n",
    "plt.xlabel(r'$cos(\\theta_l)$')\n",
    "plt.ylabel(r'Number of candidates')\n",
    "plt.grid()\n",
    "plt.show()"
   ]
  },
  {
   "cell_type": "markdown",
   "metadata": {},
   "source": [
    "## Fitting\n",
    "Let us assume a flat acceptance distribution for the following.\n",
    "We have\n",
    "$\\frac{d^2\\Gamma_P}{dq^2dcos\\theta_l} = \\frac{3}{8}[\\frac{3}{2} - \\frac{1}{2}F_L + \\frac{1}{2}cos2\\theta_l(1-3F_L) + \\frac{8}{3}A_{FB}cos\\theta_l]$"
   ]
  },
  {
   "cell_type": "code",
   "execution_count": 27,
   "metadata": {
    "pycharm": {
     "name": "#%%\n"
    }
   },
   "outputs": [],
   "source": [
    "def d2gamma_p_d2q2_dcostheta(fl, afb, cos_theta_l):\n",
    "    \"\"\"\n",
    "    Returns the pdf defined above\n",
    "    :param fl: f_l observable\n",
    "    :param afb: a_fb observable\n",
    "    :param cos_theta_l: cos(theta_l)\n",
    "    :return:\n",
    "    \"\"\"\n",
    "    ctl = cos_theta_l\n",
    "    c2tl = 2 * ctl ** 2 - 1\n",
    "    acceptance = 0.5  # acceptance \"function\" acceptance function used to correct for warping induced. This will allow for sampling with the correct weights. In general theta_l dependent.\n",
    "    scalar_array = 3/8 * (3/2 - 1/2 * fl + 1/2 * c2tl * (1 - 3 * fl) + 8/3 * afb * ctl) * acceptance #multiply with acceptance for correction\n",
    "    normalised_scalar_array = scalar_array * 2  # normalising scalar array to account for the non-unity acceptance function. In general this normalisation constant will probably require integration\n",
    "    return normalised_scalar_array\n",
    "\n",
    "def log_likelihood(fl, afb, _bin):\n",
    "    \"\"\"\n",
    "    Returns the negative log-likelihood of the pdf defined above\n",
    "    :param fl: f_l observable\n",
    "    :param afb: a_fb observable\n",
    "    :param _bin: number of the bin to fit\n",
    "    :return:\n",
    "    \"\"\"\n",
    "    _bin = bins[int(_bin)]\n",
    "    ctl = _bin['ctl']\n",
    "    normalised_scalar_array = d2gamma_p_d2q2_dcostheta(fl=fl, afb=afb, cos_theta_l=ctl)\n",
    "    return -np.sum(np.log(normalised_scalar_array)) #summed up to find total probability for this data with the fitted parameters. \n",
    "                                                    #negative because min easier to find than max"
   ]
  },
  {
   "cell_type": "markdown",
   "metadata": {},
   "source": [
    "Let us check how the negative log-likelihood function defined above looks like for a given bin and a fixed $A_{FB}$ or a fixed $F_L$."
   ]
  },
  {
   "cell_type": "code",
   "execution_count": 40,
   "metadata": {
    "pycharm": {
     "name": "#%%\n"
    }
   },
   "outputs": [
    {
     "name": "stderr",
     "output_type": "stream",
     "text": [
      "C:\\Users\\liewz\\anaconda3\\lib\\site-packages\\pandas\\core\\arraylike.py:358: RuntimeWarning: invalid value encountered in log\n",
      "  result = getattr(ufunc, method)(*inputs, **kwargs)\n"
     ]
    },
    {
     "data": {
      "image/png": "[encoded data removed]",
      "text/plain": [
       "<Figure size 576x216 with 2 Axes>"
      ]
     },
     "metadata": {
      "needs_background": "light"
     },
     "output_type": "display_data"
    }
   ],
   "source": [
    "_test_bin = 1\n",
    "\n",
    "#following values are used just for fixing one parameter while the other is varied\n",
    "_test_afb = 0.7\n",
    "_test_fl = 0.0\n",
    "\n",
    "x = np.linspace(-1, 1, 500)\n",
    "fig, (ax1, ax2) = plt.subplots(1, 2, figsize=(8, 3))\n",
    "ax1.plot(x, [log_likelihood(fl=i, afb=_test_afb, _bin=_test_bin) for i in x]) #testing log_likelihood for different values of fl from -1 to 1\n",
    "ax1.set_title(r'$A_{FB}$ = ' + str(_test_afb))\n",
    "ax1.set_xlabel(r'$F_L$')\n",
    "ax1.set_ylabel(r'$-\\mathcal{L}$')\n",
    "ax1.grid()\n",
    "\n",
    "ax2.plot(x, [log_likelihood(fl=_test_fl, afb=i, _bin=_test_bin) for i in x]) #testing log_likelihood for different values of afb from -1 to 1\n",
    "ax1.set_title(r'$A_{FB}$ = ' + str(_test_afb))\n",
    "ax2.set_title(r'$F_{L}$ = ' + str(_test_fl))\n",
    "ax2.set_xlabel(r'$A_{FB}$')\n",
    "ax2.set_ylabel(r'$-\\mathcal{L}$')\n",
    "ax2.grid()\n",
    "plt.tight_layout()\n",
    "plt.show()"
   ]
  },
  {
   "cell_type": "markdown",
   "metadata": {},
   "source": [
    "Note the warning about an inalid value. For some values of the fit parameters you can get a negative PDF which leads to invalid logarithms.\n",
    "\n",
    "### Fitting\n",
    "We then use `iminuit` to optimize $A_{FB}$ and $F_L$. The function `m.migrad()` does the gradient descent minimisation of the negative log likelihood"
   ]
  },
  {
   "cell_type": "code",
   "execution_count": 41,
   "metadata": {
    "pycharm": {
     "name": "#%%\n"
    }
   },
   "outputs": [
    {
     "name": "stdout",
     "output_type": "stream",
     "text": [
      "Bin 0: 0.293 pm 0.037, -0.099 pm 0.021. Function minimum considered valid: True\n",
      "Bin 1: 0.652 pm 0.038, -0.187 pm 0.023. Function minimum considered valid: True\n",
      "Bin 2: 0.738 pm 0.041, -0.097 pm 0.023. Function minimum considered valid: True\n",
      "Bin 3: 0.722 pm 0.033, 0.072 pm 0.019. Function minimum considered valid: True\n",
      "Bin 4: 0.651 pm 0.028, 0.215 pm 0.017. Function minimum considered valid: True\n",
      "Bin 5: 0.299 pm 0.034, 0.383 pm 0.02. Function minimum considered valid: True\n"
     ]
    },
    {
     "name": "stderr",
     "output_type": "stream",
     "text": [
      "C:\\Users\\liewz\\anaconda3\\lib\\site-packages\\pandas\\core\\arraylike.py:358: RuntimeWarning: invalid value encountered in log\n",
      "  result = getattr(ufunc, method)(*inputs, **kwargs)\n"
     ]
    },
    {
     "name": "stdout",
     "output_type": "stream",
     "text": [
      "Bin 6: 0.239 pm 0.042, 0.332 pm 0.024. Function minimum considered valid: True\n"
     ]
    }
   ],
   "source": [
    "#these 2 are only used for checking in the next cell\n",
    "bin_number_to_check = 0  # bin that we want to check in more details in the next cell\n",
    "bin_results_to_check = None\n",
    "\n",
    "\n",
    "log_likelihood.errordef = Minuit.LIKELIHOOD #set to a negative log likelihood function\n",
    "decimal_places = 3 #only used for outputting results\n",
    "starting_point = [-0.1,0.0] #starting for fl and afb respectively\n",
    "\n",
    "#setting up lists for outputting of results\n",
    "fls, fl_errs = [], []\n",
    "afbs, afb_errs = [], []\n",
    "\n",
    "for i in range(len(bins)):\n",
    "    m = Minuit(log_likelihood, fl=starting_point[0], afb=starting_point[1], _bin=i)\n",
    "    m.fixed['_bin'] = True  # fixing the bin number as we don't want to optimize it\n",
    "    m.limits=((-1.0, 1.0), (-1.0, 1.0), None) #setting the limits for parameters fl, afb, and bin number in that order\n",
    "    m.migrad() #find min using gradient descent\n",
    "    m.hesse() #finds estimation of errors at min point by looking at th\n",
    "    if i == bin_number_to_check:\n",
    "        bin_results_to_check = m #sets up results for checking in the next cell\n",
    "        \n",
    "    fls.append(m.values[0])\n",
    "    afbs.append(m.values[1])\n",
    "    fl_errs.append(m.errors[0])\n",
    "    afb_errs.append(m.errors[1])\n",
    "    \n",
    "    print(f\"Bin {i}: {np.round(fls[i], decimal_places)} pm {np.round(fl_errs[i], decimal_places)},\", f\"{np.round(afbs[i], decimal_places)} pm {np.round(afb_errs[i], decimal_places)}. Function minimum considered valid: {m.fmin.is_valid}\")"
   ]
  },
  {
   "cell_type": "markdown",
   "metadata": {},
   "source": [
    "It is a good idea to check the output of the minimisation. We notice again the invalid value warning so at some point in the minimisation iminuit explored an unphysical set of fit parameters. The fits all show valid function minima though so ultimately iminuit ended up somewhere reasonable. It is important to check that the fitted uncertainties are unreasonable. Very large or very small values would imply that the fit has not converged properly.\n",
    "\n",
    "Let us also look at the profiles for $A_{FB}$ and $F_L$ for a bin (e.g. bin number 0)."
   ]
  },
  {
   "cell_type": "code",
   "execution_count": 35,
   "metadata": {
    "pycharm": {
     "name": "#%%\n"
    }
   },
   "outputs": [
    {
     "data": {
      "image/png": "[encoded data removed]",
      "text/plain": [
       "<Figure size 576x360 with 2 Axes>"
      ]
     },
     "metadata": {
      "needs_background": "light"
     },
     "output_type": "display_data"
    }
   ],
   "source": [
    "#drawing likelihood profiles\n",
    "plt.figure(figsize=(8, 5))\n",
    "plt.subplot(221)\n",
    "bin_results_to_check.draw_mnprofile('afb', bound=3) \n",
    "plt.subplot(222)\n",
    "bin_results_to_check.draw_mnprofile('fl', bound=3)\n",
    "plt.tight_layout()\n",
    "plt.show()"
   ]
  },
  {
   "cell_type": "markdown",
   "metadata": {},
   "source": [
    "We can also plot the resulting fitted PDF over the measured $cos(\\theta_l)$ distribution."
   ]
  },
  {
   "cell_type": "code",
   "execution_count": 49,
   "metadata": {
    "pycharm": {
     "name": "#%%\n"
    }
   },
   "outputs": [
    {
     "data": {
      "image/png": "[encoded data removed]",
      "text/plain": [
       "<Figure size 432x288 with 1 Axes>"
      ]
     },
     "metadata": {
      "needs_background": "light"
     },
     "output_type": "display_data"
    }
   ],
   "source": [
    "bin_to_plot = 3\n",
    "number_of_bins_in_hist = 25\n",
    "\n",
    "cos_theta_l_bin = bins[bin_to_plot]['ctl']\n",
    "hist, _bins, _ = plt.hist(cos_theta_l_bin, bins=number_of_bins_in_hist) #plotting histogram from before\n",
    "\n",
    "x = np.linspace(-1, 1, number_of_bins_in_hist) #range from -1 to 1\n",
    "pdf_multiplier = np.sum(hist) * (np.max(cos_theta_l_bin) - np.min(cos_theta_l_bin)) / number_of_bins_in_hist #total number of results*range/number of bins; used as a multiplier so the fitted function is the right height \n",
    "y = d2gamma_p_d2q2_dcostheta(fl=fls[bin_to_plot], afb=afbs[bin_to_plot], cos_theta_l=x) * pdf_multiplier #fit using given function\n",
    "\n",
    "plt.plot(x, y, label=f'Fit for bin {bin_to_plot}')\n",
    "plt.xlabel(r'$cos(\\theta_l)$')\n",
    "plt.ylabel(r'Number of candidates')\n",
    "plt.legend()\n",
    "plt.grid()\n",
    "plt.show()"
   ]
  },
  {
   "cell_type": "markdown",
   "metadata": {},
   "source": [
    "Finally, let us visualize the results in each bin."
   ]
  },
  {
   "cell_type": "code",
   "execution_count": 9,
   "metadata": {
    "pycharm": {
     "name": "#%%\n"
    }
   },
   "outputs": [
    {
     "data": {
      "image/png": "[encoded data removed]",
      "text/plain": [
       "<Figure size 504x216 with 2 Axes>"
      ]
     },
     "metadata": {
      "needs_background": "light"
     },
     "output_type": "display_data"
    }
   ],
   "source": [
    "#plotting the results values of fl and afb from each bin with their corresponding erros\n",
    "fig, (ax1, ax2) = plt.subplots(1, 2, figsize=(7, 3))\n",
    "ax1.errorbar(np.linspace(0, len(bins) - 1, len(bins)), fls, yerr=fl_errs, fmt='o', markersize=2, label=r'$F_L$', color='red')\n",
    "ax2.errorbar(np.linspace(0, len(bins) - 1, len(bins)), afbs, yerr=afb_errs, fmt='o', markersize=2, label=r'$A_{FB}$', color='red')\n",
    "ax1.grid()\n",
    "ax2.grid()\n",
    "ax1.set_ylabel(r'$F_L$')\n",
    "ax2.set_ylabel(r'$A_{FB}$')\n",
    "ax1.set_xlabel(r'Bin number')\n",
    "ax2.set_xlabel(r'Bin number')\n",
    "plt.tight_layout()\n",
    "plt.show()\n"
   ]
  }
 ],
 "metadata": {
  "kernelspec": {
   "display_name": "Python 3",
   "language": "python",
   "name": "python3"
  },
  "language_info": {
   "codemirror_mode": {
    "name": "ipython",
    "version": 3
   },
   "file_extension": ".py",
   "mimetype": "text/x-python",
   "name": "python",
   "nbconvert_exporter": "python",
   "pygments_lexer": "ipython3",
   "version": "3.8.8"
  }
 },
 "nbformat": 4,
 "nbformat_minor": 1
}
