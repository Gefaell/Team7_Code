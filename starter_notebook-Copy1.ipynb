{
 "cells": [
  {
   "cell_type": "markdown",
   "metadata": {},
   "source": [
    "\n",
    "# $K^* \\mu \\mu$ angular analysis - Getting started"
   ]
  },
  {
   "cell_type": "code",
   "execution_count": 1,
   "metadata": {
    "pycharm": {
     "name": "#%%\n"
    }
   },
   "outputs": [],
   "source": [
    "#importing modules\n",
    "import numpy as np\n",
    "import pandas as pd\n",
    "import matplotlib.pyplot as plt\n",
    "from iminuit import Minuit #minuit for minimising \n",
    "from core import load_file\n",
    "from ES_functions.Compiled import selection_all"
   ]
  },
  {
   "cell_type": "markdown",
   "metadata": {},
   "source": [
    "## Loading the data\n",
    "Let us load the data from each bin in separate data frames, and put them in a list called `bins`.\n",
    "\n",
    "The following assumes that the csv\n",
    "file for bin i is called `toy_data_bin_i.csv` and is located in the folder `../kstarmumu_toy_data/`."
   ]
  },
  {
   "cell_type": "code",
   "execution_count": 8,
   "metadata": {
    "pycharm": {
     "name": "#%%\n"
    }
   },
   "outputs": [
    {
     "name": "stdout",
     "output_type": "stream",
     "text": [
      "Particle ID done\n"
     ]
    },
    {
     "data": {
      "text/html": [
       "<div>\n",
       "<style scoped>\n",
       "    .dataframe tbody tr th:only-of-type {\n",
       "        vertical-align: middle;\n",
       "    }\n",
       "\n",
       "    .dataframe tbody tr th {\n",
       "        vertical-align: top;\n",
       "    }\n",
       "\n",
       "    .dataframe thead th {\n",
       "        text-align: right;\n",
       "    }\n",
       "</style>\n",
       "<table border=\"1\" class=\"dataframe\">\n",
       "  <thead>\n",
       "    <tr style=\"text-align: right;\">\n",
       "      <th></th>\n",
       "      <th>mu_plus_MC15TuneV1_ProbNNk</th>\n",
       "      <th>mu_plus_MC15TuneV1_ProbNNpi</th>\n",
       "      <th>mu_plus_MC15TuneV1_ProbNNmu</th>\n",
       "      <th>mu_plus_MC15TuneV1_ProbNNe</th>\n",
       "      <th>mu_plus_MC15TuneV1_ProbNNp</th>\n",
       "      <th>mu_plus_P</th>\n",
       "      <th>mu_plus_PT</th>\n",
       "      <th>mu_plus_ETA</th>\n",
       "      <th>mu_plus_PHI</th>\n",
       "      <th>mu_plus_PE</th>\n",
       "      <th>...</th>\n",
       "      <th>B0_OWNPV_Y</th>\n",
       "      <th>B0_OWNPV_Z</th>\n",
       "      <th>B0_FD_OWNPV</th>\n",
       "      <th>B0_ID</th>\n",
       "      <th>q2</th>\n",
       "      <th>phi</th>\n",
       "      <th>costhetal</th>\n",
       "      <th>costhetak</th>\n",
       "      <th>polarity</th>\n",
       "      <th>year</th>\n",
       "    </tr>\n",
       "  </thead>\n",
       "  <tbody>\n",
       "    <tr>\n",
       "      <th>1197</th>\n",
       "      <td>0.000904</td>\n",
       "      <td>0.374031</td>\n",
       "      <td>0.771691</td>\n",
       "      <td>3.607586e-06</td>\n",
       "      <td>2.786022e-04</td>\n",
       "      <td>12463.920000</td>\n",
       "      <td>1629.452362</td>\n",
       "      <td>2.723441</td>\n",
       "      <td>2.657955</td>\n",
       "      <td>12464.367832</td>\n",
       "      <td>...</td>\n",
       "      <td>-0.1993</td>\n",
       "      <td>7.3031</td>\n",
       "      <td>13.992146</td>\n",
       "      <td>-511</td>\n",
       "      <td>5.823036</td>\n",
       "      <td>-2.287240</td>\n",
       "      <td>-0.872194</td>\n",
       "      <td>0.427508</td>\n",
       "      <td>1</td>\n",
       "      <td>2016</td>\n",
       "    </tr>\n",
       "    <tr>\n",
       "      <th>2349</th>\n",
       "      <td>0.002429</td>\n",
       "      <td>0.172658</td>\n",
       "      <td>0.995551</td>\n",
       "      <td>1.090435e-05</td>\n",
       "      <td>7.954079e-03</td>\n",
       "      <td>27232.500000</td>\n",
       "      <td>4031.507869</td>\n",
       "      <td>2.597893</td>\n",
       "      <td>-1.132578</td>\n",
       "      <td>27232.704969</td>\n",
       "      <td>...</td>\n",
       "      <td>-0.1582</td>\n",
       "      <td>6.5178</td>\n",
       "      <td>8.814567</td>\n",
       "      <td>-511</td>\n",
       "      <td>1.699239</td>\n",
       "      <td>0.532158</td>\n",
       "      <td>-0.335785</td>\n",
       "      <td>0.303558</td>\n",
       "      <td>1</td>\n",
       "      <td>2016</td>\n",
       "    </tr>\n",
       "    <tr>\n",
       "      <th>2790</th>\n",
       "      <td>0.000131</td>\n",
       "      <td>0.051728</td>\n",
       "      <td>0.996348</td>\n",
       "      <td>4.335023e-06</td>\n",
       "      <td>1.827846e-06</td>\n",
       "      <td>41713.730000</td>\n",
       "      <td>2959.844758</td>\n",
       "      <td>3.337580</td>\n",
       "      <td>2.225899</td>\n",
       "      <td>41713.863813</td>\n",
       "      <td>...</td>\n",
       "      <td>-0.2282</td>\n",
       "      <td>-13.4851</td>\n",
       "      <td>22.430418</td>\n",
       "      <td>-511</td>\n",
       "      <td>5.287379</td>\n",
       "      <td>2.583601</td>\n",
       "      <td>0.155902</td>\n",
       "      <td>-0.970328</td>\n",
       "      <td>1</td>\n",
       "      <td>2016</td>\n",
       "    </tr>\n",
       "    <tr>\n",
       "      <th>2833</th>\n",
       "      <td>0.000150</td>\n",
       "      <td>0.211838</td>\n",
       "      <td>0.958714</td>\n",
       "      <td>7.324293e-09</td>\n",
       "      <td>3.686176e-06</td>\n",
       "      <td>16688.321396</td>\n",
       "      <td>1135.000850</td>\n",
       "      <td>3.380065</td>\n",
       "      <td>-2.363565</td>\n",
       "      <td>16688.655869</td>\n",
       "      <td>...</td>\n",
       "      <td>-0.1514</td>\n",
       "      <td>3.4466</td>\n",
       "      <td>7.064876</td>\n",
       "      <td>-511</td>\n",
       "      <td>2.400740</td>\n",
       "      <td>0.429923</td>\n",
       "      <td>-0.732970</td>\n",
       "      <td>-0.532755</td>\n",
       "      <td>1</td>\n",
       "      <td>2016</td>\n",
       "    </tr>\n",
       "    <tr>\n",
       "      <th>3191</th>\n",
       "      <td>0.000046</td>\n",
       "      <td>0.009514</td>\n",
       "      <td>0.999920</td>\n",
       "      <td>2.276337e-06</td>\n",
       "      <td>9.026443e-07</td>\n",
       "      <td>53387.300000</td>\n",
       "      <td>4673.234847</td>\n",
       "      <td>3.126947</td>\n",
       "      <td>2.945476</td>\n",
       "      <td>53387.404554</td>\n",
       "      <td>...</td>\n",
       "      <td>-0.1390</td>\n",
       "      <td>14.8640</td>\n",
       "      <td>18.114333</td>\n",
       "      <td>511</td>\n",
       "      <td>2.200452</td>\n",
       "      <td>1.285181</td>\n",
       "      <td>-0.236935</td>\n",
       "      <td>-0.935368</td>\n",
       "      <td>-1</td>\n",
       "      <td>2016</td>\n",
       "    </tr>\n",
       "  </tbody>\n",
       "</table>\n",
       "<p>5 rows × 81 columns</p>\n",
       "</div>"
      ],
      "text/plain": [
       "      mu_plus_MC15TuneV1_ProbNNk  mu_plus_MC15TuneV1_ProbNNpi  \\\n",
       "1197                    0.000904                     0.374031   \n",
       "2349                    0.002429                     0.172658   \n",
       "2790                    0.000131                     0.051728   \n",
       "2833                    0.000150                     0.211838   \n",
       "3191                    0.000046                     0.009514   \n",
       "\n",
       "      mu_plus_MC15TuneV1_ProbNNmu  mu_plus_MC15TuneV1_ProbNNe  \\\n",
       "1197                     0.771691                3.607586e-06   \n",
       "2349                     0.995551                1.090435e-05   \n",
       "2790                     0.996348                4.335023e-06   \n",
       "2833                     0.958714                7.324293e-09   \n",
       "3191                     0.999920                2.276337e-06   \n",
       "\n",
       "      mu_plus_MC15TuneV1_ProbNNp     mu_plus_P   mu_plus_PT  mu_plus_ETA  \\\n",
       "1197                2.786022e-04  12463.920000  1629.452362     2.723441   \n",
       "2349                7.954079e-03  27232.500000  4031.507869     2.597893   \n",
       "2790                1.827846e-06  41713.730000  2959.844758     3.337580   \n",
       "2833                3.686176e-06  16688.321396  1135.000850     3.380065   \n",
       "3191                9.026443e-07  53387.300000  4673.234847     3.126947   \n",
       "\n",
       "      mu_plus_PHI    mu_plus_PE  ...  B0_OWNPV_Y  B0_OWNPV_Z  B0_FD_OWNPV  \\\n",
       "1197     2.657955  12464.367832  ...     -0.1993      7.3031    13.992146   \n",
       "2349    -1.132578  27232.704969  ...     -0.1582      6.5178     8.814567   \n",
       "2790     2.225899  41713.863813  ...     -0.2282    -13.4851    22.430418   \n",
       "2833    -2.363565  16688.655869  ...     -0.1514      3.4466     7.064876   \n",
       "3191     2.945476  53387.404554  ...     -0.1390     14.8640    18.114333   \n",
       "\n",
       "      B0_ID        q2       phi  costhetal  costhetak  polarity  year  \n",
       "1197   -511  5.823036 -2.287240  -0.872194   0.427508         1  2016  \n",
       "2349   -511  1.699239  0.532158  -0.335785   0.303558         1  2016  \n",
       "2790   -511  5.287379  2.583601   0.155902  -0.970328         1  2016  \n",
       "2833   -511  2.400740  0.429923  -0.732970  -0.532755         1  2016  \n",
       "3191    511  2.200452  1.285181  -0.236935  -0.935368        -1  2016  \n",
       "\n",
       "[5 rows x 81 columns]"
      ]
     },
     "execution_count": 8,
     "metadata": {},
     "output_type": "execute_result"
    }
   ],
   "source": [
    "data_dfs = load_file('total_dataset.pkl')\n",
    "\n",
    "selected_df, _ = selection_all(data_dfs)\n",
    "\n",
    "# bins ordered different, because np.histogram needs a\n",
    "# monotonically increasing array\n",
    "q2_bins_0 = [0.1, 0.98, 1.1, 2.5, 4, 6, 8, 15, 17, 19]\n",
    "q2_bins_1 = [1, 6, 11, 12.5, 15, 17.9]\n",
    "\n",
    "selected_binned_0 = pd.cut(\n",
    "    selected_df['q2'], bins=q2_bins_0,\n",
    "    labels=['0', 'i1', '1', '2', '3', '4', 'i2', '5', '6']\n",
    ")\n",
    "selected_binned_1 = pd.cut(\n",
    "    selected_df['q2'], bins=q2_bins_1,\n",
    "    labels=['7', 'i3', '8', 'i4', '9']\n",
    ")\n",
    "\n",
    "selected_dfs_0 = dict(tuple(selected_df.groupby(selected_binned_0)))\n",
    "selected_dfs_1 = dict(tuple(selected_df.groupby(selected_binned_1)))\n",
    "\n",
    "bins = {**selected_dfs_0, **selected_dfs_1}\n",
    "\n",
    "bins['0'].head()"
   ]
  },
  {
   "cell_type": "markdown",
   "metadata": {},
   "source": [
    "Let us have a look at the distribution of the variable $cos(\\theta_l)$, which will be used below, in one of the bins."
   ]
  },
  {
   "cell_type": "code",
   "execution_count": 3,
   "metadata": {
    "pycharm": {
     "name": "#%%\n"
    }
   },
   "outputs": [
    {
     "data": {
      "image/png": "[encoded data removed]",
      "text/plain": [
       "<Figure size 432x288 with 1 Axes>"
      ]
     },
     "metadata": {
      "needs_background": "light"
     },
     "output_type": "display_data"
    }
   ],
   "source": [
    "plt.hist(bins['3']['costhetal'], bins=25, density=True)\n",
    "plt.xlabel(r'$cos(\\theta_l)$')\n",
    "plt.ylabel(r'Number of candidates')\n",
    "plt.grid()\n",
    "plt.show()"
   ]
  },
  {
   "cell_type": "markdown",
   "metadata": {},
   "source": [
    "## Fitting\n",
    "Let us assume a flat acceptance distribution for the following.\n",
    "We have\n",
    "$\\frac{d^2\\Gamma_P}{dq^2dcos\\theta_l} = \\frac{3}{8}[\\frac{3}{2} - \\frac{1}{2}F_L + \\frac{1}{2}cos2\\theta_l(1-3F_L) + \\frac{8}{3}A_{FB}cos\\theta_l]$"
   ]
  },
  {
   "cell_type": "code",
   "execution_count": 9,
   "metadata": {},
   "outputs": [],
   "source": [
    "c_0 = np.loadtxt('acceptance_func_parameters/c_0.txt')\n",
    "costhetal_0 = np.loadtxt('acceptance_func_parameters/costhetal_0.txt')\n",
    "q2_normal_0 = np.loadtxt('acceptance_func_parameters/q2_normal_0.txt')\n",
    "\n",
    "c_1 = np.loadtxt('acceptance_func_parameters/c_1.txt')\n",
    "costhetal_1 = np.loadtxt('acceptance_func_parameters/costhetal_1.txt')\n",
    "q2_normal_1 = np.loadtxt('acceptance_func_parameters/q2_normal_1.txt')"
   ]
  },
  {
   "cell_type": "code",
   "execution_count": 10,
   "metadata": {
    "pycharm": {
     "name": "#%%\n"
    }
   },
   "outputs": [],
   "source": [
    "def P_0(x):\n",
    "    return 1\n",
    "def P_1(x):\n",
    "    return x\n",
    "def P_2(x):\n",
    "    return 0.5*(3*x**2-1)\n",
    "def P_3(x):\n",
    "    return 0.5*(5*x**3-3*x)\n",
    "def P_4(x):\n",
    "    return 0.125*(35*x**4-30*x**2+3)\n",
    "def P_5(x):\n",
    "    return 0.125*(63*x**5-70*x**3+15*x)\n",
    "\n",
    "P=[P_0,P_1,P_2,P_3,P_4,P_5]\n",
    "\n",
    "# Continuous 2d acceptance function F(q2_normal,costhetal). Here we let q2_normal be fixed\n",
    "def F (cos,q2,coe,bin_no): \n",
    "    SUM=0\n",
    "    for i in range (0,6): \n",
    "        for j in range (0,6): \n",
    "            SUM+=coe[i][j]*P[i](q2[bin_no])*P[j](cos)\n",
    "    return SUM\n",
    "\n",
    "def d2gamma_p_d2q2_dcostheta(fl, afb, cos_theta_l, bin_no):\n",
    "    \"\"\"\n",
    "    Returns the pdf defined above\n",
    "    :param fl: f_l observable\n",
    "    :param afb: a_fb observable\n",
    "    :param cos_theta_l: cos(theta_l)\n",
    "    :return:\n",
    "    \"\"\"\n",
    "    ctl = cos_theta_l\n",
    "    c2tl = 2 * ctl ** 2 - 1\n",
    "    # acceptance \"function\" acceptance function used to correct for warping \n",
    "    # induced. This will allow for sampling with the correct weights. \n",
    "    # In general theta_l dependent.\n",
    "    acceptance = F(ctl, q2_normal_1, c_1, bin_no)  \n",
    "    #multiply with acceptance for correction\n",
    "    scalar_array = ( \n",
    "        3/8 * (3/2 - 1/2 * fl + 1/2 * c2tl * (1 - 3 * fl) + 8/3 * afb * ctl) * acceptance\n",
    "    )\n",
    "    # normalising scalar array to account for the non-unity acceptance function.\n",
    "    #  In general this normalisation constant will probably require integration\n",
    "    normalised_scalar_array = scalar_array * 2  \n",
    "    return normalised_scalar_array\n",
    "\n",
    "def log_likelihood(fl, afb, _bin):\n",
    "    \"\"\"\n",
    "    Returns the negative log-likelihood of the pdf defined above\n",
    "    :param fl: f_l observable\n",
    "    :param afb: a_fb observable\n",
    "    :param _bin: number of the bin to fit\n",
    "    :return:\n",
    "    \"\"\"\n",
    "    bin_ = bins[f'{int(_bin)}']\n",
    "    ctl = bin_['costhetal']\n",
    "    normalised_scalar_array = d2gamma_p_d2q2_dcostheta(fl, afb, ctl, _bin)\n",
    "    #summed up to find total probability for this data with the fitted parameters. \n",
    "    #negative because min easier to find than max\n",
    "    return -np.sum(np.log(normalised_scalar_array)) \n"
   ]
  },
  {
   "cell_type": "code",
   "execution_count": 79,
   "metadata": {},
   "outputs": [
    {
     "name": "stdout",
     "output_type": "stream",
     "text": [
      "[[ 3.06613260e+00  2.28480220e-02 -2.14775610e-01 -1.32509813e-03\n",
      "  -3.05425893e-01  4.80938954e-02  0.00000000e+00  0.00000000e+00\n",
      "   0.00000000e+00  0.00000000e+00]\n",
      " [-1.00032064e+00  1.72392606e-02  3.21104664e-01 -1.38036041e-01\n",
      "   1.94713555e-01 -1.63948275e-01  0.00000000e+00  0.00000000e+00\n",
      "   0.00000000e+00  0.00000000e+00]\n",
      " [ 3.11112791e+00  3.33713359e-02 -3.64714670e-01  3.77671186e-02\n",
      "  -4.42209220e-01  1.41397831e-01  0.00000000e+00  0.00000000e+00\n",
      "   0.00000000e+00  0.00000000e+00]\n",
      " [ 2.96995703e+00  8.38097265e-02  8.72074598e-03  3.81140048e-02\n",
      "  -1.30318071e-01 -6.62967598e-02  0.00000000e+00  0.00000000e+00\n",
      "   0.00000000e+00  0.00000000e+00]\n",
      " [-2.67031791e+00 -1.23599448e-01  1.81139957e-01 -2.78103274e-01\n",
      "   2.37974309e-01 -2.68543172e-01  0.00000000e+00  0.00000000e+00\n",
      "   0.00000000e+00  0.00000000e+00]\n",
      " [-3.35153407e+00  1.04610562e-01 -9.30744431e-02  5.24769625e-01\n",
      "   2.35775183e-01  4.23402022e-01  0.00000000e+00  0.00000000e+00\n",
      "   0.00000000e+00  0.00000000e+00]\n",
      " [ 0.00000000e+00  0.00000000e+00  0.00000000e+00  0.00000000e+00\n",
      "   0.00000000e+00  0.00000000e+00  0.00000000e+00  0.00000000e+00\n",
      "   0.00000000e+00  0.00000000e+00]\n",
      " [ 0.00000000e+00  0.00000000e+00  0.00000000e+00  0.00000000e+00\n",
      "   0.00000000e+00  0.00000000e+00  0.00000000e+00  0.00000000e+00\n",
      "   0.00000000e+00  0.00000000e+00]\n",
      " [ 0.00000000e+00  0.00000000e+00  0.00000000e+00  0.00000000e+00\n",
      "   0.00000000e+00  0.00000000e+00  0.00000000e+00  0.00000000e+00\n",
      "   0.00000000e+00  0.00000000e+00]\n",
      " [ 0.00000000e+00  0.00000000e+00  0.00000000e+00  0.00000000e+00\n",
      "   0.00000000e+00  0.00000000e+00  0.00000000e+00  0.00000000e+00\n",
      "   0.00000000e+00  0.00000000e+00]]\n",
      "[[ 9.94061652e-01 -1.51528595e-03 -4.64882761e-02  9.71209647e-03\n",
      "  -1.13418082e-01  1.81325282e-02  0.00000000e+00  0.00000000e+00\n",
      "   0.00000000e+00  0.00000000e+00]\n",
      " [ 6.74820063e-01 -3.99792556e-03  9.55073300e-03 -2.06222412e-02\n",
      "  -6.81747017e-02  1.45664904e-02  0.00000000e+00  0.00000000e+00\n",
      "   0.00000000e+00  0.00000000e+00]\n",
      " [-6.68457401e-02  2.29604598e-02  3.32256829e-03 -3.81682339e-02\n",
      "   3.02880145e-02 -8.85437917e-03  0.00000000e+00  0.00000000e+00\n",
      "   0.00000000e+00  0.00000000e+00]\n",
      " [-6.76128284e-01  2.09035796e-02 -5.03839647e-03 -1.04915020e-02\n",
      "   8.63129914e-02 -2.01039337e-02  0.00000000e+00  0.00000000e+00\n",
      "   0.00000000e+00  0.00000000e+00]\n",
      " [-1.59811018e+00 -3.57164617e-02  9.34610588e-02  3.21397730e-02\n",
      "   1.49962304e-01 -1.58213646e-02  0.00000000e+00  0.00000000e+00\n",
      "   0.00000000e+00  0.00000000e+00]\n",
      " [ 2.64193850e-01 -3.47883743e-02 -6.87942126e-02  1.02810694e-01\n",
      "  -8.02869259e-02  1.45772446e-02  0.00000000e+00  0.00000000e+00\n",
      "   0.00000000e+00  0.00000000e+00]\n",
      " [ 0.00000000e+00  0.00000000e+00  0.00000000e+00  0.00000000e+00\n",
      "   0.00000000e+00  0.00000000e+00  0.00000000e+00  0.00000000e+00\n",
      "   0.00000000e+00  0.00000000e+00]\n",
      " [ 0.00000000e+00  0.00000000e+00  0.00000000e+00  0.00000000e+00\n",
      "   0.00000000e+00  0.00000000e+00  0.00000000e+00  0.00000000e+00\n",
      "   0.00000000e+00  0.00000000e+00]\n",
      " [ 0.00000000e+00  0.00000000e+00  0.00000000e+00  0.00000000e+00\n",
      "   0.00000000e+00  0.00000000e+00  0.00000000e+00  0.00000000e+00\n",
      "   0.00000000e+00  0.00000000e+00]\n",
      " [ 0.00000000e+00  0.00000000e+00  0.00000000e+00  0.00000000e+00\n",
      "   0.00000000e+00  0.00000000e+00  0.00000000e+00  0.00000000e+00\n",
      "   0.00000000e+00  0.00000000e+00]]\n"
     ]
    }
   ],
   "source": [
    "print(c_0)\n",
    "print(c_1)"
   ]
  },
  {
   "cell_type": "markdown",
   "metadata": {},
   "source": [
    "Let us check how the negative log-likelihood function defined above looks like for a given bin and a fixed $A_{FB}$ or a fixed $F_L$."
   ]
  },
  {
   "cell_type": "code",
   "execution_count": 45,
   "metadata": {
    "pycharm": {
     "name": "#%%\n"
    }
   },
   "outputs": [
    {
     "name": "stderr",
     "output_type": "stream",
     "text": [
      "C:\\Users\\liewz\\anaconda3\\lib\\site-packages\\pandas\\core\\arraylike.py:358: RuntimeWarning: invalid value encountered in log\n",
      "  result = getattr(ufunc, method)(*inputs, **kwargs)\n",
      "C:\\Users\\liewz\\anaconda3\\lib\\site-packages\\pandas\\core\\arraylike.py:358: RuntimeWarning: invalid value encountered in log\n",
      "  result = getattr(ufunc, method)(*inputs, **kwargs)\n"
     ]
    },
    {
     "data": {
      "image/png": "[encoded data removed]",
      "text/plain": [
       "<Figure size 576x216 with 2 Axes>"
      ]
     },
     "metadata": {
      "needs_background": "light"
     },
     "output_type": "display_data"
    }
   ],
   "source": [
    "_test_bin = 1\n",
    "\n",
    "#following values are used just for fixing one parameter while the other is varied\n",
    "_test_afb = 0.7\n",
    "_test_fl = 0.0\n",
    "\n",
    "x = np.linspace(-1, 1, 500)\n",
    "fig, (ax1, ax2) = plt.subplots(1, 2, figsize=(8, 3))\n",
    "#testing log_likelihood for different values of fl from -1 to 1\n",
    "ax1.plot(x, [log_likelihood(fl=i, afb=_test_afb, _bin=_test_bin) for i in x]) \n",
    "ax1.set_title(r'$A_{FB}$ = ' + str(_test_afb))\n",
    "ax1.set_xlabel(r'$F_L$')\n",
    "ax1.set_ylabel(r'$-\\mathcal{L}$')\n",
    "ax1.grid()\n",
    "\n",
    "#testing log_likelihood for different values of afb from -1 to 1\n",
    "ax2.plot(x, [log_likelihood(fl=_test_fl, afb=i, _bin=_test_bin) for i in x]) \n",
    "ax1.set_title(r'$A_{FB}$ = ' + str(_test_afb))\n",
    "ax2.set_title(r'$F_{L}$ = ' + str(_test_fl))\n",
    "ax2.set_xlabel(r'$A_{FB}$')\n",
    "ax2.set_ylabel(r'$-\\mathcal{L}$')\n",
    "ax2.grid()\n",
    "plt.tight_layout()\n",
    "plt.show()"
   ]
  },
  {
   "cell_type": "markdown",
   "metadata": {},
   "source": [
    "Note the warning about an inalid value. For some values of the fit parameters you can get a negative PDF which leads to invalid logarithms.\n",
    "\n",
    "### Fitting\n",
    "We then use `iminuit` to optimize $A_{FB}$ and $F_L$. The function `m.migrad()` does the gradient descent minimisation of the negative log likelihood"
   ]
  },
  {
   "cell_type": "code",
   "execution_count": 13,
   "metadata": {},
   "outputs": [
    {
     "name": "stdout",
     "output_type": "stream",
     "text": [
      "bin=7, [0.92099684 0.01486243]\n",
      "bin=8, [0.34935435 0.43976072]\n",
      "bin=9, [0.21686715 0.45245803]\n"
     ]
    }
   ],
   "source": [
    "import numpy as np\n",
    "import numpy.linalg as la\n",
    "\n",
    " \n",
    "\n",
    "def mag(v):\n",
    "    m = sum(i**2 for i in v)\n",
    "    return np.sqrt(m)\n",
    "\n",
    "def LOG_likelihood(r, args):\n",
    "    return log_likelihood(r[0], r[1], args)\n",
    "\n",
    "def Newton(r,cost_func,args):\n",
    "    h = 1e-6\n",
    "    grad = np.zeros(len(r))\n",
    "    H = h * np.array([ [ float(i == j) for i in range(len(r)) ] for j in range(len(r)) ])\n",
    "    for i in range(len(r)):\n",
    "        grad[i] = (cost_func(r + H[i], *args) - cost_func(r - H[i], *args) ) / (2*h)\n",
    "    Hess = np.zeros(shape = (len(r), len(r)))\n",
    "    for i in range(len(r)):\n",
    "        for j in range(i+1):\n",
    "            if i == j:\n",
    "                Hess[i,i] = (cost_func(r + H[i],*args) - 2*cost_func(r,*args) + cost_func(r - H[i],*args))/h**2\n",
    "            else:\n",
    "                Hess[i,j] = (cost_func(r + H[i] + H[j],*args) + cost_func(r - H[i] - H[j], *args) - \n",
    "                              cost_func(r + H[i] - H[j], *args) - cost_func(r - H[i] + H[j], *args))/(4*h**2)\n",
    "                Hess[j,i] = Hess[i,j]\n",
    "    Hess_in = la.inv(Hess)\n",
    "    r_1 = r - np.matmul(Hess_in, grad)\n",
    "    try:\n",
    "        if mag(r_1-r)/mag(r) < 1e-6:\n",
    "            return r_1, Hess\n",
    "        else:\n",
    "            return Newton(r_1, cost_func, args)\n",
    "    except RecursionError :\n",
    "        return r_1, Hess \n",
    "\n",
    "for i in range(3):\n",
    "    args = [i]\n",
    "    init = [-0.1, 0.0]\n",
    "    min_val, error = Newton(init, LOG_likelihood, args)\n",
    "    \n",
    "    print(f'bin={i+7}, {min_val}')"
   ]
  },
  {
   "cell_type": "code",
   "execution_count": 47,
   "metadata": {
    "pycharm": {
     "name": "#%%\n"
    }
   },
   "outputs": [
    {
     "ename": "IndexError",
     "evalue": "only integers, slices (`:`), ellipsis (`...`), numpy.newaxis (`None`) and integer or boolean arrays are valid indices",
     "output_type": "error",
     "traceback": [
      "\u001b[1;31m---------------------------------------------------------------------------\u001b[0m",
      "\u001b[1;31mIndexError\u001b[0m                                Traceback (most recent call last)",
      "\u001b[1;32m<ipython-input-47-b33314f0c0a8>\u001b[0m in \u001b[0;36m<module>\u001b[1;34m\u001b[0m\n\u001b[0;32m     17\u001b[0m \u001b[1;33m\u001b[0m\u001b[0m\n\u001b[0;32m     18\u001b[0m     \u001b[0mm\u001b[0m\u001b[1;33m.\u001b[0m\u001b[0mlimits\u001b[0m\u001b[1;33m=\u001b[0m\u001b[1;33m(\u001b[0m\u001b[1;33m(\u001b[0m\u001b[1;33m-\u001b[0m\u001b[1;36m1.0\u001b[0m\u001b[1;33m,\u001b[0m \u001b[1;36m1.0\u001b[0m\u001b[1;33m)\u001b[0m\u001b[1;33m,\u001b[0m \u001b[1;33m(\u001b[0m\u001b[1;33m-\u001b[0m\u001b[1;36m1.0\u001b[0m\u001b[1;33m,\u001b[0m \u001b[1;36m1.0\u001b[0m\u001b[1;33m)\u001b[0m\u001b[1;33m,\u001b[0m \u001b[1;32mNone\u001b[0m\u001b[1;33m)\u001b[0m \u001b[1;31m#setting the limits for parameters fl, afb, and bin number in that order\u001b[0m\u001b[1;33m\u001b[0m\u001b[1;33m\u001b[0m\u001b[0m\n\u001b[1;32m---> 19\u001b[1;33m     \u001b[0mm\u001b[0m\u001b[1;33m.\u001b[0m\u001b[0mmigrad\u001b[0m\u001b[1;33m(\u001b[0m\u001b[1;33m)\u001b[0m \u001b[1;31m#find min using gradient descent\u001b[0m\u001b[1;33m\u001b[0m\u001b[1;33m\u001b[0m\u001b[0m\n\u001b[0m\u001b[0;32m     20\u001b[0m     \u001b[0mm\u001b[0m\u001b[1;33m.\u001b[0m\u001b[0mhesse\u001b[0m\u001b[1;33m(\u001b[0m\u001b[1;33m)\u001b[0m \u001b[1;31m#finds estimation of errors at min point by looking at th\u001b[0m\u001b[1;33m\u001b[0m\u001b[1;33m\u001b[0m\u001b[0m\n\u001b[0;32m     21\u001b[0m     \u001b[1;32mif\u001b[0m \u001b[0mi\u001b[0m \u001b[1;33m==\u001b[0m \u001b[0mbin_number_to_check\u001b[0m\u001b[1;33m:\u001b[0m\u001b[1;33m\u001b[0m\u001b[1;33m\u001b[0m\u001b[0m\n",
      "\u001b[1;32m~\\anaconda3\\lib\\site-packages\\iminuit\\minuit.py\u001b[0m in \u001b[0;36mmigrad\u001b[1;34m(self, ncall, iterate)\u001b[0m\n\u001b[0;32m    681\u001b[0m             \u001b[1;32mif\u001b[0m \u001b[0mself\u001b[0m\u001b[1;33m.\u001b[0m\u001b[0m_precision\u001b[0m \u001b[1;32mis\u001b[0m \u001b[1;32mnot\u001b[0m \u001b[1;32mNone\u001b[0m\u001b[1;33m:\u001b[0m\u001b[1;33m\u001b[0m\u001b[1;33m\u001b[0m\u001b[0m\n\u001b[0;32m    682\u001b[0m                 \u001b[0mmigrad\u001b[0m\u001b[1;33m.\u001b[0m\u001b[0mprecision\u001b[0m \u001b[1;33m=\u001b[0m \u001b[0mself\u001b[0m\u001b[1;33m.\u001b[0m\u001b[0m_precision\u001b[0m\u001b[1;33m\u001b[0m\u001b[1;33m\u001b[0m\u001b[0m\n\u001b[1;32m--> 683\u001b[1;33m             \u001b[0mfm\u001b[0m \u001b[1;33m=\u001b[0m \u001b[0mmigrad\u001b[0m\u001b[1;33m(\u001b[0m\u001b[0mncall\u001b[0m\u001b[1;33m,\u001b[0m \u001b[0mself\u001b[0m\u001b[1;33m.\u001b[0m\u001b[0m_tolerance\u001b[0m\u001b[1;33m)\u001b[0m\u001b[1;33m\u001b[0m\u001b[1;33m\u001b[0m\u001b[0m\n\u001b[0m\u001b[0;32m    684\u001b[0m             \u001b[1;32mif\u001b[0m \u001b[0mfm\u001b[0m\u001b[1;33m.\u001b[0m\u001b[0mis_valid\u001b[0m \u001b[1;32mor\u001b[0m \u001b[0mfm\u001b[0m\u001b[1;33m.\u001b[0m\u001b[0mhas_reached_call_limit\u001b[0m\u001b[1;33m:\u001b[0m\u001b[1;33m\u001b[0m\u001b[1;33m\u001b[0m\u001b[0m\n\u001b[0;32m    685\u001b[0m                 \u001b[1;32mbreak\u001b[0m\u001b[1;33m\u001b[0m\u001b[1;33m\u001b[0m\u001b[0m\n",
      "\u001b[1;32m<ipython-input-43-da81042f0023>\u001b[0m in \u001b[0;36mlog_likelihood\u001b[1;34m(fl, afb, _bin)\u001b[0m\n\u001b[0;32m     46\u001b[0m     \u001b[0mbin_\u001b[0m \u001b[1;33m=\u001b[0m \u001b[0mbins\u001b[0m\u001b[1;33m[\u001b[0m\u001b[1;34mf'{int(_bin)}'\u001b[0m\u001b[1;33m]\u001b[0m\u001b[1;33m\u001b[0m\u001b[1;33m\u001b[0m\u001b[0m\n\u001b[0;32m     47\u001b[0m     \u001b[0mctl\u001b[0m \u001b[1;33m=\u001b[0m \u001b[0mbin_\u001b[0m\u001b[1;33m[\u001b[0m\u001b[1;34m'costhetal'\u001b[0m\u001b[1;33m]\u001b[0m\u001b[1;33m\u001b[0m\u001b[1;33m\u001b[0m\u001b[0m\n\u001b[1;32m---> 48\u001b[1;33m     \u001b[0mnormalised_scalar_array\u001b[0m \u001b[1;33m=\u001b[0m \u001b[0md2gamma_p_d2q2_dcostheta\u001b[0m\u001b[1;33m(\u001b[0m\u001b[0mfl\u001b[0m\u001b[1;33m,\u001b[0m \u001b[0mafb\u001b[0m\u001b[1;33m,\u001b[0m \u001b[0mctl\u001b[0m\u001b[1;33m,\u001b[0m \u001b[0m_bin\u001b[0m\u001b[1;33m)\u001b[0m\u001b[1;33m\u001b[0m\u001b[1;33m\u001b[0m\u001b[0m\n\u001b[0m\u001b[0;32m     49\u001b[0m     \u001b[1;32mreturn\u001b[0m \u001b[1;33m-\u001b[0m\u001b[0mnp\u001b[0m\u001b[1;33m.\u001b[0m\u001b[0msum\u001b[0m\u001b[1;33m(\u001b[0m\u001b[0mnp\u001b[0m\u001b[1;33m.\u001b[0m\u001b[0mlog\u001b[0m\u001b[1;33m(\u001b[0m\u001b[0mnormalised_scalar_array\u001b[0m\u001b[1;33m)\u001b[0m\u001b[1;33m)\u001b[0m \u001b[1;31m#summed up to find total probability for this data with the fitted parameters.\u001b[0m\u001b[1;33m\u001b[0m\u001b[1;33m\u001b[0m\u001b[0m\n\u001b[0;32m     50\u001b[0m                                                     \u001b[1;31m#negative because min easier to find than max\u001b[0m\u001b[1;33m\u001b[0m\u001b[1;33m\u001b[0m\u001b[1;33m\u001b[0m\u001b[0m\n",
      "\u001b[1;32m<ipython-input-43-da81042f0023>\u001b[0m in \u001b[0;36md2gamma_p_d2q2_dcostheta\u001b[1;34m(fl, afb, cos_theta_l, bin_no)\u001b[0m\n\u001b[0;32m     31\u001b[0m     \u001b[0mctl\u001b[0m \u001b[1;33m=\u001b[0m \u001b[0mcos_theta_l\u001b[0m\u001b[1;33m\u001b[0m\u001b[1;33m\u001b[0m\u001b[0m\n\u001b[0;32m     32\u001b[0m     \u001b[0mc2tl\u001b[0m \u001b[1;33m=\u001b[0m \u001b[1;36m2\u001b[0m \u001b[1;33m*\u001b[0m \u001b[0mctl\u001b[0m \u001b[1;33m**\u001b[0m \u001b[1;36m2\u001b[0m \u001b[1;33m-\u001b[0m \u001b[1;36m1\u001b[0m\u001b[1;33m\u001b[0m\u001b[1;33m\u001b[0m\u001b[0m\n\u001b[1;32m---> 33\u001b[1;33m     \u001b[0macceptance\u001b[0m \u001b[1;33m=\u001b[0m \u001b[0mF\u001b[0m\u001b[1;33m(\u001b[0m\u001b[0mctl\u001b[0m\u001b[1;33m,\u001b[0m \u001b[0mq2_normal_0\u001b[0m\u001b[1;33m,\u001b[0m \u001b[0mc_0\u001b[0m\u001b[1;33m,\u001b[0m \u001b[0mbin_no\u001b[0m\u001b[1;33m)\u001b[0m  \u001b[1;31m# acceptance \"function\" acceptance function used to correct for warping induced. This will allow for sampling with the correct weights. In general theta_l dependent.\u001b[0m\u001b[1;33m\u001b[0m\u001b[1;33m\u001b[0m\u001b[0m\n\u001b[0m\u001b[0;32m     34\u001b[0m     \u001b[0mscalar_array\u001b[0m \u001b[1;33m=\u001b[0m \u001b[1;36m3\u001b[0m\u001b[1;33m/\u001b[0m\u001b[1;36m8\u001b[0m \u001b[1;33m*\u001b[0m \u001b[1;33m(\u001b[0m\u001b[1;36m3\u001b[0m\u001b[1;33m/\u001b[0m\u001b[1;36m2\u001b[0m \u001b[1;33m-\u001b[0m \u001b[1;36m1\u001b[0m\u001b[1;33m/\u001b[0m\u001b[1;36m2\u001b[0m \u001b[1;33m*\u001b[0m \u001b[0mfl\u001b[0m \u001b[1;33m+\u001b[0m \u001b[1;36m1\u001b[0m\u001b[1;33m/\u001b[0m\u001b[1;36m2\u001b[0m \u001b[1;33m*\u001b[0m \u001b[0mc2tl\u001b[0m \u001b[1;33m*\u001b[0m \u001b[1;33m(\u001b[0m\u001b[1;36m1\u001b[0m \u001b[1;33m-\u001b[0m \u001b[1;36m3\u001b[0m \u001b[1;33m*\u001b[0m \u001b[0mfl\u001b[0m\u001b[1;33m)\u001b[0m \u001b[1;33m+\u001b[0m \u001b[1;36m8\u001b[0m\u001b[1;33m/\u001b[0m\u001b[1;36m3\u001b[0m \u001b[1;33m*\u001b[0m \u001b[0mafb\u001b[0m \u001b[1;33m*\u001b[0m \u001b[0mctl\u001b[0m\u001b[1;33m)\u001b[0m \u001b[1;33m*\u001b[0m \u001b[0macceptance\u001b[0m \u001b[1;31m#multiply with acceptance for correction\u001b[0m\u001b[1;33m\u001b[0m\u001b[1;33m\u001b[0m\u001b[0m\n\u001b[0;32m     35\u001b[0m     \u001b[0mnormalised_scalar_array\u001b[0m \u001b[1;33m=\u001b[0m \u001b[0mscalar_array\u001b[0m \u001b[1;33m*\u001b[0m \u001b[1;36m2\u001b[0m  \u001b[1;31m# normalising scalar array to account for the non-unity acceptance function. In general this normalisation constant will probably require integration\u001b[0m\u001b[1;33m\u001b[0m\u001b[1;33m\u001b[0m\u001b[0m\n",
      "\u001b[1;32m<ipython-input-43-da81042f0023>\u001b[0m in \u001b[0;36mF\u001b[1;34m(cos, q2, coe, bin_no)\u001b[0m\n\u001b[0;32m     18\u001b[0m     \u001b[1;32mfor\u001b[0m \u001b[0mi\u001b[0m \u001b[1;32min\u001b[0m \u001b[0mrange\u001b[0m \u001b[1;33m(\u001b[0m\u001b[1;36m0\u001b[0m\u001b[1;33m,\u001b[0m\u001b[1;36m6\u001b[0m\u001b[1;33m)\u001b[0m\u001b[1;33m:\u001b[0m\u001b[1;33m\u001b[0m\u001b[1;33m\u001b[0m\u001b[0m\n\u001b[0;32m     19\u001b[0m         \u001b[1;32mfor\u001b[0m \u001b[0mj\u001b[0m \u001b[1;32min\u001b[0m \u001b[0mrange\u001b[0m \u001b[1;33m(\u001b[0m\u001b[1;36m0\u001b[0m\u001b[1;33m,\u001b[0m\u001b[1;36m6\u001b[0m\u001b[1;33m)\u001b[0m\u001b[1;33m:\u001b[0m\u001b[1;33m\u001b[0m\u001b[1;33m\u001b[0m\u001b[0m\n\u001b[1;32m---> 20\u001b[1;33m             \u001b[0mSUM\u001b[0m\u001b[1;33m+=\u001b[0m\u001b[0mcoe\u001b[0m\u001b[1;33m[\u001b[0m\u001b[0mi\u001b[0m\u001b[1;33m]\u001b[0m\u001b[1;33m[\u001b[0m\u001b[0mj\u001b[0m\u001b[1;33m]\u001b[0m\u001b[1;33m*\u001b[0m\u001b[0mP\u001b[0m\u001b[1;33m[\u001b[0m\u001b[0mi\u001b[0m\u001b[1;33m]\u001b[0m\u001b[1;33m(\u001b[0m\u001b[0mq2\u001b[0m\u001b[1;33m[\u001b[0m\u001b[0mbin_no\u001b[0m\u001b[1;33m]\u001b[0m\u001b[1;33m)\u001b[0m\u001b[1;33m*\u001b[0m\u001b[0mP\u001b[0m\u001b[1;33m[\u001b[0m\u001b[0mj\u001b[0m\u001b[1;33m]\u001b[0m\u001b[1;33m(\u001b[0m\u001b[0mcos\u001b[0m\u001b[1;33m)\u001b[0m\u001b[1;33m\u001b[0m\u001b[1;33m\u001b[0m\u001b[0m\n\u001b[0m\u001b[0;32m     21\u001b[0m     \u001b[1;32mreturn\u001b[0m \u001b[0mSUM\u001b[0m\u001b[1;33m\u001b[0m\u001b[1;33m\u001b[0m\u001b[0m\n\u001b[0;32m     22\u001b[0m \u001b[1;33m\u001b[0m\u001b[0m\n",
      "\u001b[1;31mIndexError\u001b[0m: only integers, slices (`:`), ellipsis (`...`), numpy.newaxis (`None`) and integer or boolean arrays are valid indices"
     ]
    }
   ],
   "source": [
    "#these 2 are only used for checking in the next cell\n",
    "bin_number_to_check = 0  # bin that we want to check in more details in the next cell\n",
    "bin_results_to_check = None\n",
    "\n",
    "\n",
    "log_likelihood.errordef = Minuit.LIKELIHOOD #set to a negative log likelihood function\n",
    "decimal_places = 3 #only used for outputting results\n",
    "starting_point = [-0.1,0.0] #starting for fl and afb respectively\n",
    "\n",
    "#setting up lists for outputting of results\n",
    "fls, fl_errs = [], []\n",
    "afbs, afb_errs = [], []\n",
    "\n",
    "for i in range(len(bins)):\n",
    "    m = Minuit(log_likelihood, fl=starting_point[0], afb=starting_point[1], _bin=i)\n",
    "    # fixing the bin number as we don't want to optimize it\n",
    "    m.fixed['_bin'] = True  \n",
    "    #setting the limits for parameters fl, afb, and bin number in that order\n",
    "    m.limits=((-1.0, 1.0), (-1.0, 1.0), None) \n",
    "    m.migrad() #find min using gradient descent\n",
    "    m.hesse() #finds estimation of errors at min point by looking at th\n",
    "    if i == bin_number_to_check:\n",
    "        bin_results_to_check = m #sets up results for checking in the next cell\n",
    "        \n",
    "    fls.append(m.values[0])\n",
    "    afbs.append(m.values[1])\n",
    "    fl_errs.append(m.errors[0])\n",
    "    afb_errs.append(m.errors[1])\n",
    "    \n",
    "    print(\n",
    "        f\"Bin {i}: {np.round(fls[i], decimal_places)} pm {np.round(fl_errs[i], decimal_places)},\",\n",
    "        (\n",
    "            f\"{np.round(afbs[i], decimal_places)} pm {np.round(afb_errs[i], decimal_places)}\"\n",
    "            \". Function minimum considered valid: {m.fmin.is_valid}\"\n",
    "        )\n",
    "    )"
   ]
  },
  {
   "cell_type": "markdown",
   "metadata": {},
   "source": [
    "It is a good idea to check the output of the minimisation. We notice again the invalid value warning so at some point in the minimisation iminuit explored an unphysical set of fit parameters. The fits all show valid function minima though so ultimately iminuit ended up somewhere reasonable. It is important to check that the fitted uncertainties are unreasonable. Very large or very small values would imply that the fit has not converged properly.\n",
    "\n",
    "Let us also look at the profiles for $A_{FB}$ and $F_L$ for a bin (e.g. bin number 0)."
   ]
  },
  {
   "cell_type": "code",
   "execution_count": 35,
   "metadata": {
    "pycharm": {
     "name": "#%%\n"
    }
   },
   "outputs": [
    {
     "data": {
      "image/png": "[encoded data removed]",
      "text/plain": [
       "<Figure size 576x360 with 2 Axes>"
      ]
     },
     "metadata": {
      "needs_background": "light"
     },
     "output_type": "display_data"
    }
   ],
   "source": [
    "#drawing likelihood profiles\n",
    "plt.figure(figsize=(8, 5))\n",
    "plt.subplot(221)\n",
    "bin_results_to_check.draw_mnprofile('afb', bound=3) \n",
    "plt.subplot(222)\n",
    "bin_results_to_check.draw_mnprofile('fl', bound=3)\n",
    "plt.tight_layout()\n",
    "plt.show()"
   ]
  },
  {
   "cell_type": "markdown",
   "metadata": {},
   "source": [
    "We can also plot the resulting fitted PDF over the measured $cos(\\theta_l)$ distribution."
   ]
  },
  {
   "cell_type": "code",
   "execution_count": 49,
   "metadata": {
    "pycharm": {
     "name": "#%%\n"
    }
   },
   "outputs": [
    {
     "data": {
      "image/png": "[encoded data removed]",
      "text/plain": [
       "<Figure size 432x288 with 1 Axes>"
      ]
     },
     "metadata": {
      "needs_background": "light"
     },
     "output_type": "display_data"
    }
   ],
   "source": [
    "bin_to_plot = 3\n",
    "number_of_bins_in_hist = 25\n",
    "\n",
    "cos_theta_l_bin = bins[bin_to_plot]['ctl']\n",
    "hist, _bins, _ = plt.hist(cos_theta_l_bin, bins=number_of_bins_in_hist) #plotting histogram from before\n",
    "\n",
    "x = np.linspace(-1, 1, number_of_bins_in_hist) #range from -1 to 1\n",
    "pdf_multiplier = np.sum(hist) * (np.max(cos_theta_l_bin) - np.min(cos_theta_l_bin)) / number_of_bins_in_hist #total number of results*range/number of bins; used as a multiplier so the fitted function is the right height \n",
    "y = d2gamma_p_d2q2_dcostheta(fl=fls[bin_to_plot], afb=afbs[bin_to_plot], cos_theta_l=x) * pdf_multiplier #fit using given function\n",
    "\n",
    "plt.plot(x, y, label=f'Fit for bin {bin_to_plot}')\n",
    "plt.xlabel(r'$cos(\\theta_l)$')\n",
    "plt.ylabel(r'Number of candidates')\n",
    "plt.legend()\n",
    "plt.grid()\n",
    "plt.show()"
   ]
  },
  {
   "cell_type": "markdown",
   "metadata": {},
   "source": [
    "Finally, let us visualize the results in each bin."
   ]
  },
  {
   "cell_type": "code",
   "execution_count": 9,
   "metadata": {
    "pycharm": {
     "name": "#%%\n"
    }
   },
   "outputs": [
    {
     "data": {
      "image/png": "[encoded data removed]",
      "text/plain": [
       "<Figure size 504x216 with 2 Axes>"
      ]
     },
     "metadata": {
      "needs_background": "light"
     },
     "output_type": "display_data"
    }
   ],
   "source": [
    "#plotting the results values of fl and afb from each bin with their corresponding erros\n",
    "fig, (ax1, ax2) = plt.subplots(1, 2, figsize=(7, 3))\n",
    "ax1.errorbar(np.linspace(0, len(bins) - 1, len(bins)), fls, yerr=fl_errs, fmt='o', markersize=2, label=r'$F_L$', color='red')\n",
    "ax2.errorbar(np.linspace(0, len(bins) - 1, len(bins)), afbs, yerr=afb_errs, fmt='o', markersize=2, label=r'$A_{FB}$', color='red')\n",
    "ax1.grid()\n",
    "ax2.grid()\n",
    "ax1.set_ylabel(r'$F_L$')\n",
    "ax2.set_ylabel(r'$A_{FB}$')\n",
    "ax1.set_xlabel(r'Bin number')\n",
    "ax2.set_xlabel(r'Bin number')\n",
    "plt.tight_layout()\n",
    "plt.show()\n"
   ]
  }
 ],
 "metadata": {
  "kernelspec": {
   "display_name": "Python 3",
   "language": "python",
   "name": "python3"
  },
  "language_info": {
   "codemirror_mode": {
    "name": "ipython",
    "version": 3
   },
   "file_extension": ".py",
   "mimetype": "text/x-python",
   "name": "python",
   "nbconvert_exporter": "python",
   "pygments_lexer": "ipython3",
   "version": "3.8.8"
  }
 },
 "nbformat": 4,
 "nbformat_minor": 1
}
